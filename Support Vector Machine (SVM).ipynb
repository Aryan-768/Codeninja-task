{
 "cells": [
  {
   "cell_type": "code",
   "execution_count": 1,
   "id": "ed5e9a89-a618-47cd-b574-761bf2027540",
   "metadata": {},
   "outputs": [
    {
     "name": "stdout",
     "output_type": "stream",
     "text": [
      "Requirement already satisfied: pandas in c:\\users\\dell\\desktop\\lol\\newenv\\lib\\site-packages (2.3.2)\n",
      "Requirement already satisfied: numpy>=1.26.0 in c:\\users\\dell\\desktop\\lol\\newenv\\lib\\site-packages (from pandas) (2.3.3)\n",
      "Requirement already satisfied: python-dateutil>=2.8.2 in c:\\users\\dell\\desktop\\lol\\newenv\\lib\\site-packages (from pandas) (2.9.0.post0)\n",
      "Requirement already satisfied: pytz>=2020.1 in c:\\users\\dell\\desktop\\lol\\newenv\\lib\\site-packages (from pandas) (2025.2)\n",
      "Requirement already satisfied: tzdata>=2022.7 in c:\\users\\dell\\desktop\\lol\\newenv\\lib\\site-packages (from pandas) (2025.2)\n",
      "Requirement already satisfied: six>=1.5 in c:\\users\\dell\\desktop\\lol\\newenv\\lib\\site-packages (from python-dateutil>=2.8.2->pandas) (1.17.0)\n"
     ]
    },
    {
     "name": "stderr",
     "output_type": "stream",
     "text": [
      "\n",
      "[notice] A new release of pip is available: 25.1.1 -> 25.2\n",
      "[notice] To update, run: python.exe -m pip install --upgrade pip\n"
     ]
    },
    {
     "name": "stdout",
     "output_type": "stream",
     "text": [
      "Requirement already satisfied: scikit-learn in c:\\users\\dell\\desktop\\lol\\newenv\\lib\\site-packages (1.7.2)\n",
      "Requirement already satisfied: numpy>=1.22.0 in c:\\users\\dell\\desktop\\lol\\newenv\\lib\\site-packages (from scikit-learn) (2.3.3)\n",
      "Requirement already satisfied: scipy>=1.8.0 in c:\\users\\dell\\desktop\\lol\\newenv\\lib\\site-packages (from scikit-learn) (1.16.2)\n",
      "Requirement already satisfied: joblib>=1.2.0 in c:\\users\\dell\\desktop\\lol\\newenv\\lib\\site-packages (from scikit-learn) (1.5.2)\n",
      "Requirement already satisfied: threadpoolctl>=3.1.0 in c:\\users\\dell\\desktop\\lol\\newenv\\lib\\site-packages (from scikit-learn) (3.6.0)\n"
     ]
    },
    {
     "name": "stderr",
     "output_type": "stream",
     "text": [
      "\n",
      "[notice] A new release of pip is available: 25.1.1 -> 25.2\n",
      "[notice] To update, run: python.exe -m pip install --upgrade pip\n"
     ]
    }
   ],
   "source": [
    "!pip install pandas\n",
    "!pip install scikit-learn"
   ]
  },
  {
   "cell_type": "code",
   "execution_count": 2,
   "id": "1a758d8a-9ff4-4ca4-834e-7b537e0129e9",
   "metadata": {},
   "outputs": [
    {
     "name": "stdout",
     "output_type": "stream",
     "text": [
      "Fitting 3 folds for each of 36 candidates, totalling 108 fits\n",
      "\n",
      "Best Parameters from GridSearch: {'C': 0.1, 'degree': 2, 'gamma': 'auto', 'kernel': 'poly'}\n",
      "Best CV F1 Score: 0.32597065924513013\n",
      "\n",
      "=== Final Model Evaluation ===\n",
      "              precision    recall  f1-score   support\n",
      "\n",
      "           0       0.81      1.00      0.89      1449\n",
      "           1       0.00      0.00      0.00       351\n",
      "\n",
      "    accuracy                           0.81      1800\n",
      "   macro avg       0.40      0.50      0.45      1800\n",
      "weighted avg       0.65      0.81      0.72      1800\n",
      "\n",
      "Confusion Matrix:\n",
      " [[1449    0]\n",
      " [ 351    0]]\n",
      "\n",
      "Performance Summary:\n",
      "                    Accuracy  Precision  Recall  F1-score\n",
      "SVM (Best Kernel)     0.805        0.0     0.0       0.0\n"
     ]
    },
    {
     "data": {
      "image/png": "[encoded data removed]",
      "text/plain": [
       "<Figure size 600x500 with 1 Axes>"
      ]
     },
     "metadata": {},
     "output_type": "display_data"
    }
   ],
   "source": [
    "import pandas as pd\n",
    "import matplotlib.pyplot as plt\n",
    "from sklearn.model_selection import train_test_split, GridSearchCV\n",
    "from sklearn.preprocessing import MinMaxScaler, LabelEncoder\n",
    "from sklearn.svm import SVC\n",
    "from sklearn.metrics import (\n",
    "    accuracy_score, precision_score, recall_score, f1_score,\n",
    "    confusion_matrix, classification_report\n",
    ")\n",
    "\n",
    "# -------------------------------\n",
    "# Load and preprocess dataset\n",
    "# -------------------------------\n",
    "file_path = \"Employee_Performance_Retention.csv\"\n",
    "df = pd.read_csv(file_path)\n",
    "\n",
    "# Drop irrelevant column\n",
    "df = df.drop(columns=[\"Employee_ID\"])\n",
    "\n",
    "# Encode target\n",
    "le = LabelEncoder()\n",
    "df[\"Attrition\"] = le.fit_transform(df[\"Attrition\"])  # Yes=1, No=0\n",
    "\n",
    "# One-hot encode categorical features\n",
    "X = pd.get_dummies(df.drop(\"Attrition\", axis=1), drop_first=True)\n",
    "y = df[\"Attrition\"]\n",
    "\n",
    "# Scale features\n",
    "scaler = MinMaxScaler()\n",
    "X_scaled = scaler.fit_transform(X)\n",
    "\n",
    "# Train-test split\n",
    "X_train, X_test, y_train, y_test = train_test_split(\n",
    "    X_scaled, y, test_size=0.2, random_state=42, stratify=y\n",
    ")\n",
    "\n",
    "# -------------------------------\n",
    "# GridSearchCV for best hyperparams\n",
    "# -------------------------------\n",
    "param_grid = {\n",
    "    \"C\": [0.1, 1, 10],\n",
    "    \"gamma\": [\"scale\", \"auto\"],\n",
    "    \"kernel\": [\"linear\", \"rbf\", \"poly\"],\n",
    "    \"degree\": [2, 3]  # Only matters for poly kernel\n",
    "}\n",
    "\n",
    "grid = GridSearchCV(\n",
    "    SVC(class_weight=\"balanced\"),\n",
    "    param_grid,\n",
    "    cv=3,\n",
    "    scoring=\"f1\",\n",
    "    verbose=1,\n",
    "    n_jobs=-1\n",
    ")\n",
    "\n",
    "grid.fit(X_train, y_train)\n",
    "\n",
    "print(\"\\nBest Parameters from GridSearch:\", grid.best_params_)\n",
    "print(\"Best CV F1 Score:\", grid.best_score_)\n",
    "\n",
    "# -------------------------------\n",
    "# Train final SVM with best params\n",
    "# -------------------------------\n",
    "best_svm = grid.best_estimator_\n",
    "y_pred = best_svm.predict(X_test)\n",
    "\n",
    "# Metrics\n",
    "acc = accuracy_score(y_test, y_pred)\n",
    "prec = precision_score(y_test, y_pred, zero_division=0)\n",
    "rec = recall_score(y_test, y_pred, zero_division=0)\n",
    "f1 = f1_score(y_test, y_pred, zero_division=0)\n",
    "\n",
    "print(\"\\n=== Final Model Evaluation ===\")\n",
    "print(classification_report(y_test, y_pred, zero_division=0))\n",
    "print(\"Confusion Matrix:\\n\", confusion_matrix(y_test, y_pred))\n",
    "\n",
    "# -------------------------------\n",
    "# Performance Summary\n",
    "# -------------------------------\n",
    "results = {\n",
    "    \"Accuracy\": acc,\n",
    "    \"Precision\": prec,\n",
    "    \"Recall\": rec,\n",
    "    \"F1-score\": f1\n",
    "}\n",
    "results_df = pd.DataFrame(results, index=[\"SVM (Best Kernel)\"])\n",
    "print(\"\\nPerformance Summary:\\n\", results_df)\n",
    "\n",
    "# -------------------------------\n",
    "# Plot metrics\n",
    "# -------------------------------\n",
    "results_df.T.plot(kind=\"bar\", legend=False, figsize=(6, 5), color=\"skyblue\")\n",
    "plt.title(\"SVM Performance Metrics\")\n",
    "plt.ylabel(\"Score\")\n",
    "plt.xticks(rotation=45)\n",
    "plt.ylim(0, 1)\n",
    "plt.show()\n"
   ]
  },
  {
   "cell_type": "code",
   "execution_count": null,
   "id": "11d35315-3c58-49c6-b74a-f817f5221e26",
   "metadata": {},
   "outputs": [],
   "source": []
  }
 ],
 "metadata": {
  "kernelspec": {
   "display_name": "py3.9",
   "language": "python",
   "name": "py3.9"
  },
  "language_info": {
   "codemirror_mode": {
    "name": "ipython",
    "version": 3
   },
   "file_extension": ".py",
   "mimetype": "text/x-python",
   "name": "python",
   "nbconvert_exporter": "python",
   "pygments_lexer": "ipython3",
   "version": "3.9.13"
  }
 },
 "nbformat": 4,
 "nbformat_minor": 5
}
