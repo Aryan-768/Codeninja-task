{
 "cells": [
  {
   "cell_type": "code",
   "execution_count": 1,
   "id": "a6a5664b-7065-4f70-a4ff-1a5512189348",
   "metadata": {},
   "outputs": [
    {
     "name": "stdout",
     "output_type": "stream",
     "text": [
      "Requirement already satisfied: pandas in c:\\users\\dell\\desktop\\lol\\newenv\\lib\\site-packages (2.3.2)\n",
      "Requirement already satisfied: numpy>=1.26.0 in c:\\users\\dell\\desktop\\lol\\newenv\\lib\\site-packages (from pandas) (2.3.3)\n",
      "Requirement already satisfied: python-dateutil>=2.8.2 in c:\\users\\dell\\desktop\\lol\\newenv\\lib\\site-packages (from pandas) (2.9.0.post0)\n",
      "Requirement already satisfied: pytz>=2020.1 in c:\\users\\dell\\desktop\\lol\\newenv\\lib\\site-packages (from pandas) (2025.2)\n",
      "Requirement already satisfied: tzdata>=2022.7 in c:\\users\\dell\\desktop\\lol\\newenv\\lib\\site-packages (from pandas) (2025.2)\n",
      "Requirement already satisfied: six>=1.5 in c:\\users\\dell\\desktop\\lol\\newenv\\lib\\site-packages (from python-dateutil>=2.8.2->pandas) (1.17.0)\n"
     ]
    },
    {
     "name": "stderr",
     "output_type": "stream",
     "text": [
      "\n",
      "[notice] A new release of pip is available: 25.1.1 -> 25.2\n",
      "[notice] To update, run: python.exe -m pip install --upgrade pip\n"
     ]
    },
    {
     "name": "stdout",
     "output_type": "stream",
     "text": [
      "Requirement already satisfied: scikit-learn in c:\\users\\dell\\appdata\\local\\programs\\python\\python39\\lib\\site-packages (1.6.1)\n",
      "Requirement already satisfied: scipy>=1.6.0 in c:\\users\\dell\\appdata\\local\\programs\\python\\python39\\lib\\site-packages (from scikit-learn) (1.13.1)\n",
      "Requirement already satisfied: numpy>=1.19.5 in c:\\users\\dell\\appdata\\local\\programs\\python\\python39\\lib\\site-packages (from scikit-learn) (1.26.4)\n",
      "Requirement already satisfied: threadpoolctl>=3.1.0 in c:\\users\\dell\\appdata\\local\\programs\\python\\python39\\lib\\site-packages (from scikit-learn) (3.6.0)\n",
      "Requirement already satisfied: joblib>=1.2.0 in c:\\users\\dell\\appdata\\local\\programs\\python\\python39\\lib\\site-packages (from scikit-learn) (1.5.2)\n"
     ]
    },
    {
     "name": "stderr",
     "output_type": "stream",
     "text": [
      "WARNING: Ignoring invalid distribution -rotobuf (c:\\users\\dell\\appdata\\local\\programs\\python\\python39\\lib\\site-packages)\n",
      "WARNING: Ignoring invalid distribution -rotobuf (c:\\users\\dell\\appdata\\local\\programs\\python\\python39\\lib\\site-packages)\n",
      "WARNING: Ignoring invalid distribution -rotobuf (c:\\users\\dell\\appdata\\local\\programs\\python\\python39\\lib\\site-packages)\n",
      "WARNING: Ignoring invalid distribution -rotobuf (c:\\users\\dell\\appdata\\local\\programs\\python\\python39\\lib\\site-packages)\n",
      "WARNING: Ignoring invalid distribution -rotobuf (c:\\users\\dell\\appdata\\local\\programs\\python\\python39\\lib\\site-packages)\n",
      "WARNING: Ignoring invalid distribution -rotobuf (c:\\users\\dell\\appdata\\local\\programs\\python\\python39\\lib\\site-packages)\n",
      "WARNING: You are using pip version 22.0.4; however, version 25.2 is available.\n",
      "You should consider upgrading via the 'C:\\Users\\Dell\\AppData\\Local\\Programs\\Python\\Python39\\python.exe -m pip install --upgrade pip' command.\n"
     ]
    },
    {
     "name": "stdout",
     "output_type": "stream",
     "text": [
      "Requirement already satisfied: matplotlib in c:\\users\\dell\\desktop\\lol\\newenv\\lib\\site-packages (3.10.6)\n",
      "Requirement already satisfied: contourpy>=1.0.1 in c:\\users\\dell\\desktop\\lol\\newenv\\lib\\site-packages (from matplotlib) (1.3.3)\n",
      "Requirement already satisfied: cycler>=0.10 in c:\\users\\dell\\desktop\\lol\\newenv\\lib\\site-packages (from matplotlib) (0.12.1)\n",
      "Requirement already satisfied: fonttools>=4.22.0 in c:\\users\\dell\\desktop\\lol\\newenv\\lib\\site-packages (from matplotlib) (4.60.0)\n",
      "Requirement already satisfied: kiwisolver>=1.3.1 in c:\\users\\dell\\desktop\\lol\\newenv\\lib\\site-packages (from matplotlib) (1.4.9)\n",
      "Requirement already satisfied: numpy>=1.23 in c:\\users\\dell\\desktop\\lol\\newenv\\lib\\site-packages (from matplotlib) (2.3.3)\n",
      "Requirement already satisfied: packaging>=20.0 in c:\\users\\dell\\desktop\\lol\\newenv\\lib\\site-packages (from matplotlib) (25.0)\n",
      "Requirement already satisfied: pillow>=8 in c:\\users\\dell\\desktop\\lol\\newenv\\lib\\site-packages (from matplotlib) (11.3.0)\n",
      "Requirement already satisfied: pyparsing>=2.3.1 in c:\\users\\dell\\desktop\\lol\\newenv\\lib\\site-packages (from matplotlib) (3.2.5)\n",
      "Requirement already satisfied: python-dateutil>=2.7 in c:\\users\\dell\\desktop\\lol\\newenv\\lib\\site-packages (from matplotlib) (2.9.0.post0)\n",
      "Requirement already satisfied: six>=1.5 in c:\\users\\dell\\desktop\\lol\\newenv\\lib\\site-packages (from python-dateutil>=2.7->matplotlib) (1.17.0)\n"
     ]
    },
    {
     "name": "stderr",
     "output_type": "stream",
     "text": [
      "\n",
      "[notice] A new release of pip is available: 25.1.1 -> 25.2\n",
      "[notice] To update, run: python.exe -m pip install --upgrade pip\n"
     ]
    },
    {
     "name": "stdout",
     "output_type": "stream",
     "text": [
      "Name: scikit-learn\n",
      "Version: 1.7.2\n",
      "Summary: A set of python modules for machine learning and data mining\n",
      "Home-page: https://scikit-learn.org\n",
      "Author: \n",
      "Author-email: \n",
      "License-Expression: BSD-3-Clause\n",
      "Location: C:\\Users\\Dell\\Desktop\\lol\\Newenv\\Lib\\site-packages\n",
      "Requires: joblib, numpy, scipy, threadpoolctl\n",
      "Required-by: \n"
     ]
    }
   ],
   "source": [
    "!pip install pandas\n",
    "!C:\\Users\\Dell\\AppData\\Local\\Programs\\Python\\Python39\\python.exe -m pip install scikit-learn\n",
    "!pip install matplotlib\n",
    "!pip show scikit-learn"
   ]
  },
  {
   "cell_type": "code",
   "execution_count": null,
   "id": "9db905f9-8f47-451c-89fe-da05a6a9ea9a",
   "metadata": {},
   "outputs": [
    {
     "name": "stdout",
     "output_type": "stream",
     "text": [
      "Python executable: C:\\Users\\Dell\\AppData\\Local\\Programs\\Python\\Python39\\python.exe\n",
      "Current working directory: C:\\Users\\Dell\\Desktop\\lol\n",
      "Dataset loaded successfully!\n",
      "Columns in dataset: ['Employee_ID', 'Age', 'Department', 'Years_of_Experience', 'Monthly_Working_Hours', 'Training_Hours_per_Year', 'Performance_Rating', 'Job_Satisfaction_Level', 'Promotion_in_Last_2_Years', 'Attrition']\n",
      "  Employee_ID  Age  Department  Years_of_Experience  Monthly_Working_Hours  \\\n",
      "0       E1000   59       Sales                   27                    135   \n",
      "1       E1001   49        Tech                   13                    132   \n",
      "2       E1002   35  Operations                   16                    197   \n",
      "3       E1003   28          HR                   23                    204   \n",
      "4       E1004   41  Operations                   33                    192   \n",
      "\n",
      "   Training_Hours_per_Year  Performance_Rating Job_Satisfaction_Level  \\\n",
      "0                       30                   3                 Medium   \n",
      "1                       36                   5                 Medium   \n",
      "2                       11                   5                    Low   \n",
      "3                       36                   3                   High   \n",
      "4                       36                   2                 Medium   \n",
      "\n",
      "  Promotion_in_Last_2_Years Attrition  \n",
      "0                       Yes        No  \n",
      "1                       Yes       Yes  \n",
      "2                        No        No  \n",
      "3                        No        No  \n",
      "4                        No        No  \n",
      "Shape after encoding: (9000, 9011)\n",
      "Unique target classes: [0 1]\n"
     ]
    },
    {
     "name": "stderr",
     "output_type": "stream",
     "text": [
      "C:\\Users\\Dell\\AppData\\Local\\Programs\\Python\\Python39\\lib\\site-packages\\sklearn\\metrics\\_classification.py:1565: UndefinedMetricWarning: Precision is ill-defined and being set to 0.0 in labels with no predicted samples. Use `zero_division` parameter to control this behavior.\n",
      "  _warn_prf(average, modifier, f\"{metric.capitalize()} is\", len(result))\n",
      "C:\\Users\\Dell\\AppData\\Local\\Programs\\Python\\Python39\\lib\\site-packages\\sklearn\\metrics\\_classification.py:1565: UndefinedMetricWarning: Precision is ill-defined and being set to 0.0 in labels with no predicted samples. Use `zero_division` parameter to control this behavior.\n",
      "  _warn_prf(average, modifier, f\"{metric.capitalize()} is\", len(result))\n",
      "C:\\Users\\Dell\\AppData\\Local\\Programs\\Python\\Python39\\lib\\site-packages\\sklearn\\metrics\\_classification.py:1565: UndefinedMetricWarning: Precision is ill-defined and being set to 0.0 in labels with no predicted samples. Use `zero_division` parameter to control this behavior.\n",
      "  _warn_prf(average, modifier, f\"{metric.capitalize()} is\", len(result))\n",
      "C:\\Users\\Dell\\AppData\\Local\\Programs\\Python\\Python39\\lib\\site-packages\\sklearn\\metrics\\_classification.py:1565: UndefinedMetricWarning: Precision is ill-defined and being set to 0.0 in labels with no predicted samples. Use `zero_division` parameter to control this behavior.\n",
      "  _warn_prf(average, modifier, f\"{metric.capitalize()} is\", len(result))\n"
     ]
    },
    {
     "name": "stdout",
     "output_type": "stream",
     "text": [
      "\n",
      "===== Classification Results (Attrition) =====\n",
      "Accuracy: 0.8033333333333333\n",
      "Precision: 0.6453444444444445\n",
      "Recall: 0.8033333333333333\n",
      "Classification Report:\n",
      "               precision    recall  f1-score   support\n",
      "\n",
      "           0       0.80      1.00      0.89      1446\n",
      "           1       0.00      0.00      0.00       354\n",
      "\n",
      "    accuracy                           0.80      1800\n",
      "   macro avg       0.40      0.50      0.45      1800\n",
      "weighted avg       0.65      0.80      0.72      1800\n",
      "\n"
     ]
    }
   ],
   "source": [
    "%matplotlib inline  \n",
    "\n",
    "import sys\n",
    "import os\n",
    "import pandas as pd\n",
    "import matplotlib.pyplot as plt\n",
    "\n",
    "from sklearn.ensemble import RandomForestClassifier, RandomForestRegressor\n",
    "from sklearn.model_selection import train_test_split\n",
    "from sklearn.metrics import (\n",
    "    accuracy_score, precision_score, recall_score, classification_report,\n",
    "    mean_squared_error, r2_score\n",
    ")\n",
    "\n",
    "\n",
    "print(\"Python executable:\", sys.executable)\n",
    "print(\"Current working directory:\", os.getcwd())\n",
    "\n",
    "\n",
    "file_path = 'Employee_Performance_Retention.csv'\n",
    "try:\n",
    "    df = pd.read_csv(file_path)\n",
    "    print(\"Dataset loaded successfully!\")\n",
    "except FileNotFoundError:\n",
    "    raise FileNotFoundError(f\"File not found at path: {file_path}\")\n",
    "\n",
    "print(\"Columns in dataset:\", df.columns.tolist())\n",
    "print(df.head())\n",
    "\n",
    "\n",
    "task = \"classification\" \n",
    "\n",
    "if task == \"classification\":\n",
    "\n",
    "    if 'Attrition' not in df.columns:\n",
    "        raise ValueError(\"Attrition column not found in dataset.\")\n",
    "\n",
    "    df = df.dropna(subset=['Attrition'])  # drop missing target\n",
    "\n",
    "\n",
    "    df_encoded = pd.get_dummies(df.drop('Attrition', axis=1), drop_first=True)\n",
    "    X = df_encoded\n",
    "    y = df['Attrition'].astype('category').cat.codes  # categorical encoding\n",
    "\n",
    "    print(\"Shape after encoding:\", X.shape)\n",
    "    print(\"Unique target classes:\", y.unique())\n",
    "\n",
    "\n",
    "    X_train, X_test, y_train, y_test = train_test_split(\n",
    "        X, y, test_size=0.2, random_state=42\n",
    "    )\n",
    "\n",
    "\n",
    "    rf = RandomForestClassifier(n_estimators=100, random_state=42)\n",
    "    rf.fit(X_train, y_train)\n",
    "\n",
    "\n",
    "    y_pred = rf.predict(X_test)\n",
    "\n",
    "\n",
    "    accuracy = accuracy_score(y_test, y_pred)\n",
    "    precision = precision_score(y_test, y_pred, average='weighted')\n",
    "    recall = recall_score(y_test, y_pred, average='weighted')\n",
    "    report = classification_report(y_test, y_pred)\n",
    "\n",
    "    print(\"\\n===== Classification Results (Attrition) =====\")\n",
    "    print(\"Accuracy:\", accuracy)\n",
    "    print(\"Precision:\", precision)\n",
    "    print(\"Recall:\", recall)\n",
    "    print(\"Classification Report:\\n\", report)\n",
    "\n",
    "elif task == \"regression\":\n",
    "    # --- Regression Task: Predict Performance Rating ---\n",
    "    if 'PerformanceRating' not in df.columns:\n",
    "        raise ValueError(\"PerformanceRating column not found in dataset.\")\n",
    "\n",
    "    df = df.dropna(subset=['PerformanceRating'])  # drop missing target\n",
    "\n",
    "    df_encoded = pd.get_dummies(df.drop('PerformanceRating', axis=1), drop_first=True)\n",
    "    X = df_encoded\n",
    "    y = df['PerformanceRating']  # keep numeric\n",
    "\n",
    "    print(\"Shape after encoding:\", X.shape)\n",
    "    print(\"Target stats:\", y.describe())\n",
    "\n",
    "    X_train, X_test, y_train, y_test = train_test_split(\n",
    "        X, y, test_size=0.2, random_state=42\n",
    "    )\n",
    "\n",
    "    rf = RandomForestRegressor(n_estimators=100, random_state=42)\n",
    "    rf.fit(X_train, y_train)\n",
    "\n",
    "    y_pred = rf.predict(X_test)\n",
    "\n",
    "    mse = mean_squared_error(y_test, y_pred)\n",
    "    r2 = r2_score(y_test, y_pred)\n",
    "\n",
    "    print(\"\\n===== Regression Results (PerformanceRating) =====\")\n",
    "    print(\"Mean Squared Error:\", mse)\n",
    "    print(\"R² Score:\", r2)\n",
    "\n",
    "# ===== Feature Importance (works for both) =====\n",
    "importances = rf.feature_importances_\n",
    "features = X.columns\n",
    "indices = importances.argsort()[::-1]\n",
    "\n",
    "plt.figure(figsize=(10,6))\n",
    "plt.title(f\"Feature Importances ({task.title()})\")\n",
    "plt.bar(range(len(importances)), importances[indices], align='center')\n",
    "plt.xticks(range(len(importances)), [features[i] for i in indices], rotation=90)\n",
    "plt.tight_layout()\n",
    "plt.show(block=True)\n"
   ]
  }
 ],
 "metadata": {
  "kernelspec": {
   "display_name": "py3.9",
   "language": "python",
   "name": "py3.9"
  },
  "language_info": {
   "codemirror_mode": {
    "name": "ipython",
    "version": 3
   },
   "file_extension": ".py",
   "mimetype": "text/x-python",
   "name": "python",
   "nbconvert_exporter": "python",
   "pygments_lexer": "ipython3",
   "version": "3.9.13"
  }
 },
 "nbformat": 4,
 "nbformat_minor": 5
}
